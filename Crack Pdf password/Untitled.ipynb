{
 "cells": [
  {
   "cell_type": "markdown",
   "metadata": {},
   "source": [
    "pip3 install pikepdf tqdm"
   ]
  },
  {
   "cell_type": "code",
   "execution_count": null,
   "metadata": {},
   "outputs": [],
   "source": [
    "import pikepdf\n",
    "from tqdm import tqdm\n",
    "\n",
    "# load password list\n",
    "passwords = [ line.strip() for line in open(\"wordlist.txt\") ]\n",
    "\n",
    "# iterate over passwords\n",
    "for password in tqdm(passwords, \"Decrypting PDF\"):\n",
    "    try:\n",
    "        # open PDF file\n",
    "        with pikepdf.open(\"foo-protected.pdf\", password=password) as pdf:\n",
    "            # Password decrypted successfully, break out of the loop\n",
    "            print(\"[+] Password found:\", password)\n",
    "            break\n",
    "    except pikepdf._qpdf.PasswordError as e:\n",
    "        # wrong password, just continue in the loop\n",
    "        continue"
   ]
  }
 ],
 "metadata": {
  "kernelspec": {
   "display_name": "Python 3",
   "language": "python",
   "name": "python3"
  },
  "language_info": {
   "codemirror_mode": {
    "name": "ipython",
    "version": 3
   },
   "file_extension": ".py",
   "mimetype": "text/x-python",
   "name": "python",
   "nbconvert_exporter": "python",
   "pygments_lexer": "ipython3",
   "version": "3.8.3"
  }
 },
 "nbformat": 4,
 "nbformat_minor": 4
}
