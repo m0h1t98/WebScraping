{
 "cells": [
  {
   "cell_type": "markdown",
   "metadata": {},
   "source": [
    "pip install pikepdf "
   ]
  },
  {
   "cell_type": "code",
   "execution_count": 1,
   "metadata": {},
   "outputs": [],
   "source": [
    "import pikepdf"
   ]
  },
  {
   "cell_type": "code",
   "execution_count": 2,
   "metadata": {},
   "outputs": [],
   "source": [
    "file = \"data.pdf\"\n",
    "\n",
    "pdf_file = pikepdf.Pdf.open(file)"
   ]
  },
  {
   "cell_type": "code",
   "execution_count": 3,
   "metadata": {},
   "outputs": [
    {
     "name": "stdout",
     "output_type": "stream",
     "text": [
      "[+] URL Found: https://www.coursera.org/projects/power-bi-desktop\n",
      "[+] URL Found: https://www.coursera.org/projects/data-mining-visualization-in-python\n",
      "[+] URL Found: https://www.coursera.org/learn/introduction-to-python\n",
      "[+] URL Found: https://www.coursera.org/learn/data-visualization-plotly-express\n",
      "[+] URL Found: https://www.coursera.org/learn/interactive-dashboards-streamlit-python\n",
      "[+] URL Found: https://www.coursera.org/learn/visualizing-citibike-trips-tableau\n",
      "[+] URL Found: https://www.coursera.org/learn/principal-component-analysis-numpy\n",
      "[+] URL Found: https://www.coursera.org/learn/data-analysis-using-pyspark\n",
      "[+] URL Found: https://www.coursera.org/learn/prophet-timeseries-prediction\n",
      "[+] URL Found: https://www.coursera.org/learn/linear-regression-numpy-python\n",
      "[+] URL Found: https://www.coursera.org/learn/logistic-regression-numpy-python\n",
      "[+] URL Found: https://www.coursera.org/learn/basic-artificial-neural-networks-in-python\n",
      "[+] URL Found: https://www.coursera.org/learn/python-pandas-merge-sort-filter\n",
      "[+] URL Found: https://www.coursera.org/learn/introduction-to-dplyr\n"
     ]
    }
   ],
   "source": [
    "urls = []\n",
    "# iterate over PDF pages\n",
    "for page in pdf_file.pages:\n",
    "    for annots in page.get(\"/Annots\"):\n",
    "        uri = annots.get(\"/A\").get(\"/URI\")\n",
    "        if uri is not None:\n",
    "            print(\"[+] URL Found:\", uri)\n",
    "            urls.append(uri)"
   ]
  },
  {
   "cell_type": "code",
   "execution_count": 4,
   "metadata": {
    "scrolled": true
   },
   "outputs": [
    {
     "name": "stdout",
     "output_type": "stream",
     "text": [
      "[*] Total URLs extracted: 14\n"
     ]
    }
   ],
   "source": [
    "print(\"[*] Total URLs extracted:\", len(urls))"
   ]
  }
 ],
 "metadata": {
  "kernelspec": {
   "display_name": "Python 3",
   "language": "python",
   "name": "python3"
  },
  "language_info": {
   "codemirror_mode": {
    "name": "ipython",
    "version": 3
   },
   "file_extension": ".py",
   "mimetype": "text/x-python",
   "name": "python",
   "nbconvert_exporter": "python",
   "pygments_lexer": "ipython3",
   "version": "3.8.3"
  }
 },
 "nbformat": 4,
 "nbformat_minor": 4
}
