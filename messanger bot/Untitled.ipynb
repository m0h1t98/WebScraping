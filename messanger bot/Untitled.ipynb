{
 "cells": [
  {
   "cell_type": "markdown",
   "metadata": {},
   "source": [
    "pip3 install fbchat"
   ]
  },
  {
   "cell_type": "code",
   "execution_count": 1,
   "metadata": {},
   "outputs": [],
   "source": [
    "from fbchat import Client\n",
    "from fbchat.models import Message"
   ]
  },
  {
   "cell_type": "code",
   "execution_count": 2,
   "metadata": {},
   "outputs": [
    {
     "name": "stderr",
     "output_type": "stream",
     "text": [
      "Logging in agrawalmohit742@gmail.com...\n",
      "Attempt #1 failed, retrying\n",
      "Traceback (most recent call last):\n",
      "  File \"c:\\users\\agraw\\appdata\\local\\programs\\python\\python38-32\\lib\\site-packages\\fbchat\\_client.py\", line 205, in login\n",
      "    self._state = State.login(\n",
      "  File \"c:\\users\\agraw\\appdata\\local\\programs\\python\\python38-32\\lib\\site-packages\\fbchat\\_state.py\", line 153, in login\n",
      "    raise _exception.FBchatUserError(\n",
      "fbchat._exception.FBchatUserError: Login failed. Check email/password. (Failed on url: https://m.facebook.com/checkpoint/?_rdr)\n",
      "Attempt #2 failed, retrying\n",
      "Traceback (most recent call last):\n",
      "  File \"c:\\users\\agraw\\appdata\\local\\programs\\python\\python38-32\\lib\\site-packages\\fbchat\\_client.py\", line 205, in login\n",
      "    self._state = State.login(\n",
      "  File \"c:\\users\\agraw\\appdata\\local\\programs\\python\\python38-32\\lib\\site-packages\\fbchat\\_state.py\", line 153, in login\n",
      "    raise _exception.FBchatUserError(\n",
      "fbchat._exception.FBchatUserError: Login failed. Check email/password. (Failed on url: https://m.facebook.com/checkpoint/?_rdr)\n",
      "Attempt #3 failed, retrying\n",
      "Traceback (most recent call last):\n",
      "  File \"c:\\users\\agraw\\appdata\\local\\programs\\python\\python38-32\\lib\\site-packages\\fbchat\\_client.py\", line 205, in login\n",
      "    self._state = State.login(\n",
      "  File \"c:\\users\\agraw\\appdata\\local\\programs\\python\\python38-32\\lib\\site-packages\\fbchat\\_state.py\", line 153, in login\n",
      "    raise _exception.FBchatUserError(\n",
      "fbchat._exception.FBchatUserError: Login failed. Check email/password. (Failed on url: https://m.facebook.com/checkpoint/?_rdr)\n",
      "Attempt #4 failed, retrying\n",
      "Traceback (most recent call last):\n",
      "  File \"c:\\users\\agraw\\appdata\\local\\programs\\python\\python38-32\\lib\\site-packages\\fbchat\\_client.py\", line 205, in login\n",
      "    self._state = State.login(\n",
      "  File \"c:\\users\\agraw\\appdata\\local\\programs\\python\\python38-32\\lib\\site-packages\\fbchat\\_state.py\", line 153, in login\n",
      "    raise _exception.FBchatUserError(\n",
      "fbchat._exception.FBchatUserError: Login failed. Check email/password. (Failed on url: https://m.facebook.com/checkpoint/?_rdr)\n"
     ]
    },
    {
     "ename": "FBchatUserError",
     "evalue": "Login failed. Check email/password. (Failed on url: https://m.facebook.com/checkpoint/?_rdr)",
     "output_type": "error",
     "traceback": [
      "\u001b[1;31m---------------------------------------------------------------------------\u001b[0m",
      "\u001b[1;31mFBchatUserError\u001b[0m                           Traceback (most recent call last)",
      "\u001b[1;32m<ipython-input-2-32a8e7557f65>\u001b[0m in \u001b[0;36m<module>\u001b[1;34m\u001b[0m\n\u001b[0;32m      3\u001b[0m \u001b[0mpassword\u001b[0m \u001b[1;33m=\u001b[0m \u001b[1;34m\"mona123@\"\u001b[0m\u001b[1;33m\u001b[0m\u001b[1;33m\u001b[0m\u001b[0m\n\u001b[0;32m      4\u001b[0m \u001b[1;31m# login\u001b[0m\u001b[1;33m\u001b[0m\u001b[1;33m\u001b[0m\u001b[1;33m\u001b[0m\u001b[0m\n\u001b[1;32m----> 5\u001b[1;33m \u001b[0mclient\u001b[0m \u001b[1;33m=\u001b[0m \u001b[0mClient\u001b[0m\u001b[1;33m(\u001b[0m\u001b[0musername\u001b[0m\u001b[1;33m,\u001b[0m \u001b[0mpassword\u001b[0m\u001b[1;33m)\u001b[0m\u001b[1;33m\u001b[0m\u001b[1;33m\u001b[0m\u001b[0m\n\u001b[0m",
      "\u001b[1;32mc:\\users\\agraw\\appdata\\local\\programs\\python\\python38-32\\lib\\site-packages\\fbchat\\_client.py\u001b[0m in \u001b[0;36m__init__\u001b[1;34m(self, email, password, user_agent, max_tries, session_cookies, logging_level)\u001b[0m\n\u001b[0;32m    101\u001b[0m             \u001b[1;32mor\u001b[0m \u001b[1;32mnot\u001b[0m \u001b[0mself\u001b[0m\u001b[1;33m.\u001b[0m\u001b[0misLoggedIn\u001b[0m\u001b[1;33m(\u001b[0m\u001b[1;33m)\u001b[0m\u001b[1;33m\u001b[0m\u001b[1;33m\u001b[0m\u001b[0m\n\u001b[0;32m    102\u001b[0m         ):\n\u001b[1;32m--> 103\u001b[1;33m             \u001b[0mself\u001b[0m\u001b[1;33m.\u001b[0m\u001b[0mlogin\u001b[0m\u001b[1;33m(\u001b[0m\u001b[0memail\u001b[0m\u001b[1;33m,\u001b[0m \u001b[0mpassword\u001b[0m\u001b[1;33m,\u001b[0m \u001b[0mmax_tries\u001b[0m\u001b[1;33m,\u001b[0m \u001b[0muser_agent\u001b[0m\u001b[1;33m=\u001b[0m\u001b[0muser_agent\u001b[0m\u001b[1;33m)\u001b[0m\u001b[1;33m\u001b[0m\u001b[1;33m\u001b[0m\u001b[0m\n\u001b[0m\u001b[0;32m    104\u001b[0m \u001b[1;33m\u001b[0m\u001b[0m\n\u001b[0;32m    105\u001b[0m     \"\"\"\n",
      "\u001b[1;32mc:\\users\\agraw\\appdata\\local\\programs\\python\\python38-32\\lib\\site-packages\\fbchat\\_client.py\u001b[0m in \u001b[0;36mlogin\u001b[1;34m(self, email, password, max_tries, user_agent)\u001b[0m\n\u001b[0;32m    203\u001b[0m         \u001b[1;32mfor\u001b[0m \u001b[0mi\u001b[0m \u001b[1;32min\u001b[0m \u001b[0mrange\u001b[0m\u001b[1;33m(\u001b[0m\u001b[1;36m1\u001b[0m\u001b[1;33m,\u001b[0m \u001b[0mmax_tries\u001b[0m \u001b[1;33m+\u001b[0m \u001b[1;36m1\u001b[0m\u001b[1;33m)\u001b[0m\u001b[1;33m:\u001b[0m\u001b[1;33m\u001b[0m\u001b[1;33m\u001b[0m\u001b[0m\n\u001b[0;32m    204\u001b[0m             \u001b[1;32mtry\u001b[0m\u001b[1;33m:\u001b[0m\u001b[1;33m\u001b[0m\u001b[1;33m\u001b[0m\u001b[0m\n\u001b[1;32m--> 205\u001b[1;33m                 self._state = State.login(\n\u001b[0m\u001b[0;32m    206\u001b[0m                     \u001b[0memail\u001b[0m\u001b[1;33m,\u001b[0m\u001b[1;33m\u001b[0m\u001b[1;33m\u001b[0m\u001b[0m\n\u001b[0;32m    207\u001b[0m                     \u001b[0mpassword\u001b[0m\u001b[1;33m,\u001b[0m\u001b[1;33m\u001b[0m\u001b[1;33m\u001b[0m\u001b[0m\n",
      "\u001b[1;32mc:\\users\\agraw\\appdata\\local\\programs\\python\\python38-32\\lib\\site-packages\\fbchat\\_state.py\u001b[0m in \u001b[0;36mlogin\u001b[1;34m(cls, email, password, on_2fa_callback, user_agent)\u001b[0m\n\u001b[0;32m    151\u001b[0m             \u001b[1;32mreturn\u001b[0m \u001b[0mcls\u001b[0m\u001b[1;33m.\u001b[0m\u001b[0mfrom_session\u001b[0m\u001b[1;33m(\u001b[0m\u001b[0msession\u001b[0m\u001b[1;33m=\u001b[0m\u001b[0msession\u001b[0m\u001b[1;33m)\u001b[0m\u001b[1;33m\u001b[0m\u001b[1;33m\u001b[0m\u001b[0m\n\u001b[0;32m    152\u001b[0m         \u001b[1;32melse\u001b[0m\u001b[1;33m:\u001b[0m\u001b[1;33m\u001b[0m\u001b[1;33m\u001b[0m\u001b[0m\n\u001b[1;32m--> 153\u001b[1;33m             raise _exception.FBchatUserError(\n\u001b[0m\u001b[0;32m    154\u001b[0m                 \u001b[1;34m\"Login failed. Check email/password. \"\u001b[0m\u001b[1;33m\u001b[0m\u001b[1;33m\u001b[0m\u001b[0m\n\u001b[0;32m    155\u001b[0m                 \u001b[1;34m\"(Failed on url: {})\"\u001b[0m\u001b[1;33m.\u001b[0m\u001b[0mformat\u001b[0m\u001b[1;33m(\u001b[0m\u001b[0mr\u001b[0m\u001b[1;33m.\u001b[0m\u001b[0murl\u001b[0m\u001b[1;33m)\u001b[0m\u001b[1;33m\u001b[0m\u001b[1;33m\u001b[0m\u001b[0m\n",
      "\u001b[1;31mFBchatUserError\u001b[0m: Login failed. Check email/password. (Failed on url: https://m.facebook.com/checkpoint/?_rdr)"
     ]
    }
   ],
   "source": [
    "# facebook user credentials\n",
    "username = \"email/username\"\n",
    "password = \"password\"\n",
    "# login\n",
    "client = Client(username, password)"
   ]
  },
  {
   "cell_type": "code",
   "execution_count": null,
   "metadata": {},
   "outputs": [],
   "source": [
    "# get 20 users you most recently talked to\n",
    "users = client.fetchThreadList()\n",
    "print(users)"
   ]
  },
  {
   "cell_type": "code",
   "execution_count": null,
   "metadata": {},
   "outputs": [],
   "source": [
    "# get the detailed informations about these users\n",
    "detailed_users = [ list(client.fetchThreadInfo(user.uid).values())[0] for user in users ]"
   ]
  },
  {
   "cell_type": "code",
   "execution_count": null,
   "metadata": {},
   "outputs": [],
   "source": [
    "# sort by number of messages\n",
    "sorted_detailed_users = sorted(detailed_users, key=lambda u: u.message_count, reverse=True)"
   ]
  },
  {
   "cell_type": "code",
   "execution_count": null,
   "metadata": {},
   "outputs": [],
   "source": [
    "# print the best friend!\n",
    "best_friend = sorted_detailed_users[0]\n",
    "print(\"Best friend:\", best_friend.name, \"with a message count of\", best_friend.message_count)"
   ]
  },
  {
   "cell_type": "code",
   "execution_count": null,
   "metadata": {},
   "outputs": [],
   "source": [
    "# message the best friend!\n",
    "client.send(Message(text=f\"Congratulations {best_friend.name}, you are my best friend with {best_friend.message_count} messages!\"),\n",
    "            thread_id=best_friend.uid)"
   ]
  },
  {
   "cell_type": "code",
   "execution_count": null,
   "metadata": {},
   "outputs": [],
   "source": [
    "# get all users you talked to in messenger in your account\n",
    "all_users = client.fetchAllUsers()\n",
    "print(\"You talked with a total of\", len(all_users), \"users!\")"
   ]
  },
  {
   "cell_type": "code",
   "execution_count": null,
   "metadata": {},
   "outputs": [],
   "source": [
    "# let's logout\n",
    "client.logout()"
   ]
  }
 ],
 "metadata": {
  "kernelspec": {
   "display_name": "Python 3",
   "language": "python",
   "name": "python3"
  },
  "language_info": {
   "codemirror_mode": {
    "name": "ipython",
    "version": 3
   },
   "file_extension": ".py",
   "mimetype": "text/x-python",
   "name": "python",
   "nbconvert_exporter": "python",
   "pygments_lexer": "ipython3",
   "version": "3.8.3"
  }
 },
 "nbformat": 4,
 "nbformat_minor": 4
}
