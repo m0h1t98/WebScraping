{
 "cells": [
  {
   "cell_type": "code",
   "execution_count": 1,
   "metadata": {},
   "outputs": [],
   "source": [
    "from requests_html import HTMLSession \n",
    "from bs4 import BeautifulSoup as bs # importing BeautifulSoup"
   ]
  },
  {
   "cell_type": "code",
   "execution_count": 2,
   "metadata": {},
   "outputs": [],
   "source": [
    "# sample youtube video url\n",
    "url = \"https://www.youtube.com/watch?v=ta2CoAFQjHY\"\n",
    "\n",
    "def get_video_info(url):\n",
    "    # download HTML code\n",
    "    response = session.get(url)\n",
    "    # execute Javascript\n",
    "    response.html.render(sleep=1)\n",
    "    # create beautiful soup object to parse HTML\n",
    "    soup = bs(response.html.html, \"html.parser\")\n",
    "    # open(\"index.html\", \"w\").write(response.html.html)\n",
    "    # initialize the result\n",
    "    result = {}\n",
    "    \n",
    "    # video title\n",
    "    result[\"title\"] = soup.find(\"h1\").text.strip()\n",
    "    \n",
    "    # video views (converted to integer)\n",
    "    result[\"views\"] = int(''.join([ c for c in soup.find(\"span\", attrs={\"class\": \"view-count\"}).text if c.isdigit()]))\n",
    "    \n",
    "    # video description\n",
    "    result[\"description\"] = soup.find(\"yt-formatted-string\", {\"class\": \"content\"}).text\n",
    "\n",
    "   \n",
    "    # date published\n",
    "    result[\"date_published\"] = soup.find(\"div\", {\"id\": \"date\"}).text[1:]\n",
    "    \n",
    "    # get the duration of the video\n",
    "    result[\"duration\"] = soup.find(\"span\", {\"class\": \"ytp-time-duration\"}).text\n",
    "    \n",
    "    # get the video tags\n",
    "    result[\"tags\"] = ', '.join([ meta.attrs.get(\"content\") for meta in soup.find_all(\"meta\", {\"property\": \"og:video:tag\"}) ])\n",
    "    \n",
    "    \n",
    "    # number of likes\n",
    "    text_yt_formatted_strings = soup.find_all(\"yt-formatted-string\", {\"id\": \"text\", \"class\": \"ytd-toggle-button-renderer\"})\n",
    "    result[\"likes\"] = text_yt_formatted_strings[0].text\n",
    "    \n",
    "    # number of dislikes\n",
    "    result[\"dislikes\"] = text_yt_formatted_strings[1].text\n",
    "    \n",
    "    \n",
    "    # channel details\n",
    "    channel_tag = soup.find(\"yt-formatted-string\", {\"class\": \"ytd-channel-name\"}).find(\"a\")\n",
    "    \n",
    "    # channel name\n",
    "    channel_name = channel_tag.text\n",
    "    \n",
    "    # channel URL\n",
    "    channel_url = f\"https://www.youtube.com{channel_tag['href']}\"\n",
    "    \n",
    "    # number of subscribers as str\n",
    "    channel_subscribers = soup.find(\"yt-formatted-string\", {\"id\": \"owner-sub-count\"}).text.strip()\n",
    "    result['channel'] = {'name': channel_name, 'url': channel_url, 'subscribers': channel_subscribers}\n",
    "    return result"
   ]
  },
  {
   "cell_type": "code",
   "execution_count": 3,
   "metadata": {},
   "outputs": [
    {
     "name": "stderr",
     "output_type": "stream",
     "text": [
      "usage: ipykernel_launcher.py [-h] url\n",
      "ipykernel_launcher.py: error: unrecognized arguments: -f\n"
     ]
    },
    {
     "ename": "SystemExit",
     "evalue": "2",
     "output_type": "error",
     "traceback": [
      "An exception has occurred, use %tb to see the full traceback.\n",
      "\u001b[1;31mSystemExit\u001b[0m\u001b[1;31m:\u001b[0m 2\n"
     ]
    },
    {
     "name": "stderr",
     "output_type": "stream",
     "text": [
      "c:\\users\\agraw\\appdata\\local\\programs\\python\\python38-32\\lib\\site-packages\\IPython\\core\\interactiveshell.py:3339: UserWarning: To exit: use 'exit', 'quit', or Ctrl-D.\n",
      "  warn(\"To exit: use 'exit', 'quit', or Ctrl-D.\", stacklevel=1)\n"
     ]
    }
   ],
   "source": [
    "if __name__ == \"__main__\":\n",
    "    import argparse\n",
    "    parser = argparse.ArgumentParser(description=\"YouTube Video Data Extractor\")\n",
    "    parser.add_argument(\"url\", help=\"URL of the YouTube video\")\n",
    "    args = parser.parse_args()\n",
    "    url = args.url\n",
    "    # get the data\n",
    "    data = get_video_info(url)\n",
    "    # print in nice format\n",
    "    print(f\"Title: {data['title']}\")\n",
    "    print(f\"Views: {data['views']}\")\n",
    "    print(f\"Published at: {data['date_published']}\")\n",
    "    print(f\"Video Duration: {data['duration']}\")\n",
    "    print(f\"Video tags: {data['tags']}\")\n",
    "    print(f\"Likes: {data['likes']}\")\n",
    "    print(f\"Dislikes: {data['dislikes']}\")\n",
    "    print(f\"\\nDescription: {data['description']}\\n\")\n",
    "    print(f\"\\nChannel Name: {data['channel']['name']}\")\n",
    "    print(f\"Channel URL: {data['channel']['url']}\")\n",
    "    print(f\"Channel Subscribers: {data['channel']['subscribers']}\")"
   ]
  },
  {
   "cell_type": "code",
   "execution_count": null,
   "metadata": {},
   "outputs": [],
   "source": []
  }
 ],
 "metadata": {
  "kernelspec": {
   "display_name": "Python 3",
   "language": "python",
   "name": "python3"
  },
  "language_info": {
   "codemirror_mode": {
    "name": "ipython",
    "version": 3
   },
   "file_extension": ".py",
   "mimetype": "text/x-python",
   "name": "python",
   "nbconvert_exporter": "python",
   "pygments_lexer": "ipython3",
   "version": "3.8.3"
  }
 },
 "nbformat": 4,
 "nbformat_minor": 4
}
